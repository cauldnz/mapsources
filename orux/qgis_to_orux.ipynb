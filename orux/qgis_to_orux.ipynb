{
 "cells": [
  {
   "cell_type": "code",
   "execution_count": 1,
   "id": "pleased-chicken",
   "metadata": {},
   "outputs": [],
   "source": [
    "import xml.etree.ElementTree as ET\n",
    "import re"
   ]
  },
  {
   "cell_type": "code",
   "execution_count": 2,
   "id": "entitled-flavor",
   "metadata": {},
   "outputs": [],
   "source": [
    "TEMPLATE_ENTRY = \"\"\"\\\n",
    "    <onlinemapsource uid=\"{id}\">\n",
    "                <name>{name}</name>    \n",
    "                <url><![CDATA[{url}]]></url>    \n",
    "                <website><![CDATA[<a href=\"https://example.com\">Website</a>]]></website>    \n",
    "                <minzoom>{minzoom}</minzoom>    \n",
    "                <maxzoom>{maxzoom}</maxzoom>    \n",
    "                <projection>MERCATORESFERICA</projection>    \n",
    "                <servers>a,b,c</servers>    \n",
    "                <httpparam name=\"User-Agent\">Mozilla/5.0 (X11; Linux x86_64; rv:85.0) Gecko/20100101 Firefox/85.0</httpparam>    \n",
    "                <cacheable>1</cacheable>    \n",
    "                <downloadable>1</downloadable>    \n",
    "                <maxtilesday>0</maxtilesday>    \n",
    "                <maxthreads>0</maxthreads>    \n",
    "                <xop></xop>    \n",
    "                <yop></yop>    \n",
    "                <zop></zop>    \n",
    "                <qop></qop>    \n",
    "                <sop></sop>    \n",
    "    </onlinemapsource>\n",
    "\"\"\"\n",
    "\n",
    "TEMPLATE_FILE = \"\"\"\\\n",
    "<?xml version=\"1.0\" encoding=\"utf-8\"?>\n",
    "<onlinemapsources>\n",
    "        \n",
    "{entries}\n",
    "                \n",
    "</onlinemapsources>\n",
    "\"\"\"\n",
    "\n",
    "START_ID = 1000"
   ]
  },
  {
   "cell_type": "code",
   "execution_count": 3,
   "id": "patient-devices",
   "metadata": {},
   "outputs": [],
   "source": [
    "input_file = \"../qgis/qgis_layers.xml\"\n",
    "output_file = \"./onlinemapsources.xml\""
   ]
  },
  {
   "cell_type": "code",
   "execution_count": 4,
   "id": "religious-travel",
   "metadata": {},
   "outputs": [],
   "source": [
    "tree = ET.parse(input_file)"
   ]
  },
  {
   "cell_type": "code",
   "execution_count": 5,
   "id": "extra-addition",
   "metadata": {},
   "outputs": [],
   "source": [
    "url = \"asdfasdt&x={x}&y={y}&foooobar\""
   ]
  },
  {
   "cell_type": "code",
   "execution_count": 6,
   "id": "veterinary-excerpt",
   "metadata": {},
   "outputs": [
    {
     "data": {
      "text/plain": [
       "'asdfasdt&x={$x}&y={$y}&foooobar'"
      ]
     },
     "execution_count": 6,
     "metadata": {},
     "output_type": "execute_result"
    }
   ],
   "source": [
    "re.sub(\"\\{(.+?)\\}\", \"{$\\\\1}\", url)"
   ]
  },
  {
   "cell_type": "code",
   "execution_count": 7,
   "id": "british-security",
   "metadata": {},
   "outputs": [],
   "source": [
    "entries = []\n",
    "for i, xyztiles in enumerate(tree.findall(\"xyztiles\")):\n",
    "    xyztiles_dict = dict(xyztiles.items())\n",
    "    url = re.sub(\"\\{(.+?)\\}\", \"{$\\\\1}\", xyztiles_dict[\"url\"])\n",
    "    entries.append(\n",
    "        TEMPLATE_ENTRY.format(\n",
    "            id=START_ID + i,\n",
    "            maxzoom=xyztiles_dict[\"zmax\"],\n",
    "            minzoom=xyztiles_dict[\"zmin\"],\n",
    "            url=url,\n",
    "            name=xyztiles_dict[\"name\"]\n",
    "        )\n",
    "    )"
   ]
  },
  {
   "cell_type": "code",
   "execution_count": 8,
   "id": "nasty-handling",
   "metadata": {},
   "outputs": [],
   "source": [
    "with open(output_file, \"w\") as f:\n",
    "    f.write(TEMPLATE_FILE.format(entries=\"\\n\\n\".join(entries)))"
   ]
  },
  {
   "cell_type": "code",
   "execution_count": null,
   "id": "2de6808c-4083-49d5-be5f-cb038435205a",
   "metadata": {},
   "outputs": [],
   "source": []
  }
 ],
 "metadata": {
  "kernelspec": {
   "display_name": "Python 3 (ipykernel)",
   "language": "python",
   "name": "python3"
  },
  "language_info": {
   "codemirror_mode": {
    "name": "ipython",
    "version": 3
   },
   "file_extension": ".py",
   "mimetype": "text/x-python",
   "name": "python",
   "nbconvert_exporter": "python",
   "pygments_lexer": "ipython3",
   "version": "3.7.6"
  }
 },
 "nbformat": 4,
 "nbformat_minor": 5
}
